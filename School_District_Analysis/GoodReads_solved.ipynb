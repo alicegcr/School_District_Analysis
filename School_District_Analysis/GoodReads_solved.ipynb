{
 "cells": [
  {
   "cell_type": "code",
   "execution_count": 3,
   "id": "d3826176",
   "metadata": {},
   "outputs": [],
   "source": [
    "# Read in the GoodReads CSV using Pandas with utf-8 encoding.\n",
    "import pandas as pd\n",
    "\n",
    "reads_file = 'GoodReads_unsolved.ipynb'\n"
   ]
  },
  {
   "cell_type": "code",
   "execution_count": 2,
   "id": "0a3f149e",
   "metadata": {},
   "outputs": [
    {
     "ename": "NameError",
     "evalue": "name 'reads_file' is not defined",
     "output_type": "error",
     "traceback": [
      "\u001b[0;31m---------------------------------------------------------------------------\u001b[0m",
      "\u001b[0;31mNameError\u001b[0m                                 Traceback (most recent call last)",
      "Input \u001b[0;32mIn [2]\u001b[0m, in \u001b[0;36m<cell line: 1>\u001b[0;34m()\u001b[0m\n\u001b[0;32m----> 1\u001b[0m \u001b[43mreads_file\u001b[49m\u001b[38;5;241m.\u001b[39mcolumns\n",
      "\u001b[0;31mNameError\u001b[0m: name 'reads_file' is not defined"
     ]
    }
   ],
   "source": [
    "# Get the date types of each column.\n"
   ]
  },
  {
   "cell_type": "code",
   "execution_count": null,
   "id": "a0d5cc0f",
   "metadata": {},
   "outputs": [],
   "source": [
    "# Get a list of all columns within the DataFrame."
   ]
  }
 ],
 "metadata": {
  "kernelspec": {
   "display_name": "PythonData",
   "language": "python",
   "name": "pythondata"
  },
  "language_info": {
   "codemirror_mode": {
    "name": "ipython",
    "version": 3
   },
   "file_extension": ".py",
   "mimetype": "text/x-python",
   "name": "python",
   "nbconvert_exporter": "python",
   "pygments_lexer": "ipython3",
   "version": "3.9.12"
  }
 },
 "nbformat": 4,
 "nbformat_minor": 5
}
